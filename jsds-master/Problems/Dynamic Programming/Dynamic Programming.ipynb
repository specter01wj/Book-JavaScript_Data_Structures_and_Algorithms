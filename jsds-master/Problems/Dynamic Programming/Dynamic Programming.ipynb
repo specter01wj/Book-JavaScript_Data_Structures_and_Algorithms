{
 "cells": [
  {
   "cell_type": "markdown",
   "metadata": {},
   "source": [
    "## Knapsack"
   ]
  },
  {
   "cell_type": "markdown",
   "metadata": {},
   "source": [
    "### Naive / Non-DP Solution"
   ]
  },
  {
   "cell_type": "code",
   "execution_count": 24,
   "metadata": {},
   "outputs": [
    {
     "data": {
      "text/plain": [
       "16"
      ]
     },
     "execution_count": 24,
     "metadata": {},
     "output_type": "execute_result"
    }
   ],
   "source": [
    "function knapsackNaiive(index, weights, values, target) {\n",
    "    var result = 0;\n",
    "    \n",
    "    if (index <= -1 || target <= 0) {\n",
    "        result = 0\n",
    "    } else if (weights[index] > target) {\n",
    "        result = knapsackNaiive(index-1, weights, values, target);\n",
    "    } else {\n",
    "        var current = knapsackNaiive(index-1, weights, values, target),\n",
    "            currentPlusOther = values[index] + knapsackNaiive(index-1, weights, values, target - weights[index]);\n",
    "        result = Math.max(current, currentPlusOther);\n",
    "    }\n",
    "    return result;\n",
    "}\n",
    "var weights = [1,2,4,2,5],\n",
    "    values  = [5,3,5,3,2],\n",
    "    target = 10;\n",
    "knapsackNaiive(4,weights, values, target);"
   ]
  },
  {
   "cell_type": "markdown",
   "metadata": {},
   "source": [
    "### DP Solution"
   ]
  },
  {
   "cell_type": "code",
   "execution_count": 25,
   "metadata": {},
   "outputs": [
    {
     "data": {
      "text/plain": [
       "16"
      ]
     },
     "execution_count": 25,
     "metadata": {},
     "output_type": "execute_result"
    }
   ],
   "source": [
    "function knapsackDP(index, weights, values, target, matrixDP) {\n",
    "    var result = 0;\n",
    "     \n",
    "    // DP part\n",
    "    if (matrixDP[index + '-' + target]){\n",
    "        return matrixDP[index + '-' + target];\n",
    "    }\n",
    "\n",
    "    if (index <= -1 || target <= 0) {\n",
    "        result = 0\n",
    "    } else if (weights[index] > target) {\n",
    "        result = knapsackDP(index - 1, weights, values, target, matrixDP);\n",
    "    } else {\n",
    "       var current = knapsackNaiive(index-1, weights, values, target),\n",
    "           currentPlusOther = values[index] + knapsackNaiive(index-1, weights, values, target - weights[index]);\n",
    "        result = Math.max(current, currentPlusOther);\n",
    "    }\n",
    "    matrixDP[index + '-' + target] = result\n",
    "    return result;\n",
    "}\n",
    "knapsackDP(4, weights, values, target, {});"
   ]
  },
  {
   "cell_type": "markdown",
   "metadata": {},
   "source": [
    "## Longest Common String Length"
   ]
  },
  {
   "cell_type": "markdown",
   "metadata": {},
   "source": [
    "### DP Solution"
   ]
  },
  {
   "cell_type": "code",
   "execution_count": 28,
   "metadata": {},
   "outputs": [
    {
     "data": {
      "text/plain": [
       "2"
      ]
     },
     "execution_count": 28,
     "metadata": {},
     "output_type": "execute_result"
    }
   ],
   "source": [
    "function longestCommonStringLength(str1, str2) {\n",
    "    var matrix = Array(str1.length + 1).fill(Array(str2.length + 1).fill(0)),\n",
    "        rowLength = str1.length + 1,\n",
    "        colLength = str2.length + 1,\n",
    "        max = 0;\n",
    "\n",
    "    for (var row = 1; row < rowLength; row++) {\n",
    "        for (var col = 1; col < colLength; col++) {\n",
    "            var str1Char = str1.charAt(row - 1),\n",
    "                str2Char = str2.charAt(col - 1);\n",
    "\n",
    "            if (str1Char == str2Char) {\n",
    "                matrix[row][col] = matrix[row - 1][col - 1] + 1;\n",
    "                max = Math.max(matrix[row][col], max);\n",
    "            }\n",
    "        }\n",
    "    }\n",
    "    return max;\n",
    "}\n",
    "longestCommonStringLength('abcd', 'bc');"
   ]
  },
  {
   "cell_type": "markdown",
   "metadata": {},
   "source": [
    "## Coin Change"
   ]
  },
  {
   "cell_type": "markdown",
   "metadata": {},
   "source": [
    "## Naive / Non-DP Solution"
   ]
  },
  {
   "cell_type": "code",
   "execution_count": 29,
   "metadata": {},
   "outputs": [
    {
     "data": {
      "text/plain": [
       "4"
      ]
     },
     "execution_count": 29,
     "metadata": {},
     "output_type": "execute_result"
    }
   ],
   "source": [
    "// Returns the count of ways we can sum coinArr which have \n",
    "// index like: [0,...,numCoins]\n",
    "function countCoinWays(coinArr, numCoins, coinValue){\n",
    "    if (coinValue == 0) {\n",
    "        // if the value reached zero, then only solution is \n",
    "        // to not include any coin\n",
    "        return 1;\n",
    "    }\n",
    "    if (coinValue < 0 || (numCoins<=0 && coinValue >= 1)) {\n",
    "        // value is less than 0 means no solution\n",
    "        // no coins left but coinValue left also means no solution\n",
    "        return 0;\n",
    "    }\n",
    "    // \n",
    "    return countCoinWays(coinArr,numCoins-1, coinValue) + \n",
    "        countCoinWays(coinArr,numCoins, coinValue-coinArr[numCoins-1]);\n",
    "}\n",
    "function countCoinWaysWrapper(coinArr, coinValue) {\n",
    "    return countCoinWays(coinArr, coinArr.length, coinValue);\n",
    "}\n",
    "countCoinWaysWrapper([1,2,3],4);"
   ]
  },
  {
   "cell_type": "markdown",
   "metadata": {},
   "source": [
    "### DP Solution"
   ]
  },
  {
   "cell_type": "code",
   "execution_count": null,
   "metadata": {
    "collapsed": true
   },
   "outputs": [],
   "source": [
    "// function countCoinWaysDP(coinArr, numCoins, coinValue){\n",
    "//     var matrix = Array(numCoins).fill(Array(coinValue+1).fill(0));\n",
    "    \n",
    "//     for (var i=0; i < numCoins; i++) {\n",
    "//         matrix[0][i] = 1;\n",
    "//     }\n",
    "    \n",
    "//     for (var i=1; i < coinValue+1; i++) {\n",
    "        \n",
    "//         for (var j=0; j < numCoins; j++) {\n",
    "//             var x = 0,\n",
    "//                 y = 0;\n",
    "//             if (i-)\n",
    "//         }\n",
    "//     }\n",
    "// }"
   ]
  }
 ],
 "metadata": {
  "kernelspec": {
   "display_name": "Javascript (Node.js)",
   "language": "javascript",
   "name": "javascript"
  },
  "language_info": {
   "file_extension": ".js",
   "mimetype": "application/javascript",
   "name": "javascript",
   "version": "8.1.2"
  }
 },
 "nbformat": 4,
 "nbformat_minor": 2
}
